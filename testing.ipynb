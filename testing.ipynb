{
 "cells": [
  {
   "cell_type": "markdown",
   "metadata": {
    "collapsed": true
   },
   "source": [
    "# Hamlet Line Analysis"
   ]
  },
  {
   "cell_type": "code",
   "execution_count": 166,
   "metadata": {},
   "outputs": [],
   "source": [
    "from main import *\n",
    "with open('texts/raw.txt', 'r') as file:\n",
    "    passage = file.read()\n"
   ]
  },
  {
   "cell_type": "code",
   "execution_count": 169,
   "metadata": {},
   "outputs": [],
   "source": [
    "hamletActs = acter(passage)\n",
    "hamletScenes = []\n",
    "hamletSpeeches = []\n",
    "hamletLines = []\n",
    "\n",
    "for hA in hamletActs:\n",
    "    hamletScenes.append(scener(hA))\n",
    "for hSact in hamletScenes:\n",
    "    hSspeeches = []\n",
    "    for hSscene in hSact:\n",
    "        hSspeeches.append(speecher(hSscene))\n",
    "    hamletSpeeches.append(hSspeeches)\n",
    "\n",
    "for hSact in hamletSpeeches:\n",
    "    for hSscene in hSact:\n",
    "        hamletLines.append(liner(hSscene))\n",
    "\n",
    "lines = []\n",
    "for hS in hamletLines:\n",
    "    for hL in hS:\n",
    "        lines.append(hL)\n"
   ]
  },
  {
   "cell_type": "code",
   "execution_count": 171,
   "metadata": {},
   "outputs": [
    {
     "name": "stdout",
     "output_type": "stream",
     "text": [
      "First 5 lines:\n",
      "['BERNARDO', \"1.1.1>Who's there?\"]\n",
      "['FRANCISCO', '1.1.2>Nay, answer me: stand, and unfold yourself.']\n",
      "['BERNARDO', '1.1.3>Long live the king!']\n",
      "['FRANCISCO', '1.1.4>Bernardo?']\n",
      "['BERNARDO', '1.1.5>He.']\n",
      "\n",
      "Last 5 lines:\n",
      "['PRINCE FORTINBRAS', \"5.2.420>The soldiers' music and the rites of war\"]\n",
      "['PRINCE FORTINBRAS', '5.2.421>Speak loudly for him.']\n",
      "['PRINCE FORTINBRAS', '5.2.422>Take up the bodies: such a sight as this']\n",
      "['PRINCE FORTINBRAS', '5.2.423>Becomes the field, but here shows much amiss.']\n",
      "['PRINCE FORTINBRAS', '5.2.424>Go, bid the soldiers shoot.']\n",
      "\n",
      "Total # of Lines:\n",
      "4011\n"
     ]
    }
   ],
   "source": [
    "print('First 5 lines:')\n",
    "list_lister(lines[:5])\n",
    "print()\n",
    "print('Last 5 lines:')\n",
    "list_lister(lines[-5:])\n",
    "print()\n",
    "print('Total # of Lines:')\n",
    "print(len(lines))\n"
   ]
  },
  {
   "cell_type": "code",
   "execution_count": 172,
   "metadata": {},
   "outputs": [
    {
     "name": "stdout",
     "output_type": "stream",
     "text": [
      "# of Lines per Character:\n"
     ]
    },
    {
     "data": {
      "text/plain": [
       "[('HAMLET', 1495),\n",
       " ('KING CLAUDIUS', 546),\n",
       " ('LORD POLONIUS', 355),\n",
       " ('HORATIO', 289),\n",
       " ('LAERTES', 206),\n",
       " ('OPHELIA', 173),\n",
       " ('QUEEN GERTRUDE', 157),\n",
       " ('Ghost', 95),\n",
       " ('First Clown', 94),\n",
       " ('ROSENCRANTZ', 93),\n",
       " ('MARCELLUS', 62),\n",
       " ('GUILDENSTERN', 52),\n",
       " ('First Player', 52),\n",
       " ('OSRIC', 48),\n",
       " ('Player King', 44),\n",
       " ('BERNARDO', 38),\n",
       " ('Player Queen', 30),\n",
       " ('PRINCE FORTINBRAS', 27),\n",
       " ('Gentleman', 24),\n",
       " ('VOLTIMAND', 22),\n",
       " ('Second Clown', 18),\n",
       " ('REYNALDO', 15),\n",
       " ('First Priest', 13),\n",
       " ('Captain', 12),\n",
       " ('FRANCISCO', 10),\n",
       " ('Lord', 7),\n",
       " ('LUCIANUS', 6),\n",
       " ('First Ambassador', 6),\n",
       " ('First Sailor', 5),\n",
       " ('Messenger', 5),\n",
       " ('All', 4),\n",
       " ('Prologue', 3),\n",
       " ('Danes', 3),\n",
       " ('GUILDENSTERN:', 1),\n",
       " ('Servant', 1)]"
      ]
     },
     "execution_count": 172,
     "metadata": {},
     "output_type": "execute_result"
    }
   ],
   "source": [
    "characters = {}\n",
    "for l in lines:\n",
    "    if l[0] in characters:\n",
    "        characters[l[0]] += 1\n",
    "    else:\n",
    "        characters[l[0]] = 1\n",
    "print('# of Lines per Character:')\n",
    "sorted(characters.items(), key=lambda x: x[1], reverse=True)\n"
   ]
  },
  {
   "cell_type": "code",
   "execution_count": 173,
   "metadata": {},
   "outputs": [
    {
     "name": "stdout",
     "output_type": "stream",
     "text": [
      "# of Instances of each Word (1st 200 words):\n",
      "[('the', 1093), ('and', 897), ('to', 725), ('of', 658), ('you', 546), ('i', 534), ('my', 513), ('a', 496), ('it', 414), ('in', 413), ('that', 389), ('is', 338), ('not', 312), ('this', 294), ('his', 291), ('but', 262), ('with', 256), ('for', 247), ('your', 242), ('me', 231), ('be', 225), ('as', 220), ('lord', 217), ('he', 212), ('what', 204), ('so', 190), ('him', 189), ('have', 179), ('will', 169), ('do', 150), ('no', 141), ('we', 139), ('are', 131), ('on', 125), ('our', 118), ('by', 117), ('shall', 114), ('if', 112), ('o', 110), ('all', 110), ('or', 110), ('good', 107), ('come', 105), ('thou', 101), ('now', 97), ('more', 96), ('let', 95), ('from', 95), ('they', 95), ('how', 90), ('thy', 87), ('her', 87), ('at', 84), ('most', 82), ('was', 81), ('like', 80), ('would', 77), ('there', 76), ('well', 76), ('hamlet', 74), ('sir', 74), ('them', 73), ('know', 73), (\"'tis\", 71), ('may', 70), ('go', 70), ('us', 68), ('king', 66), ('love', 66), ('did', 65), ('then', 63), ('which', 63), ('very', 63), ('hath', 62), ('speak', 62), ('why', 60), ('must', 60), ('thee', 58), ('give', 58), ('should', 57), ('make', 56), ('where', 56), ('an', 56), (\"i'll\", 56), ('their', 56), ('say', 54), ('when', 54), ('such', 54), ('here', 54), ('upon', 53), ('am', 53), ('out', 53), ('than', 51), ('some', 51), ('too', 51), ('man', 51), ('much', 50), ('father', 50), ('these', 48), ('think', 47), ('see', 46), ('had', 45), ('one', 45), ('yet', 44), ('heaven', 43), ('time', 43), ('tell', 43), ('she', 43), ('who', 40), ('thus', 40), ('ay', 38), ('mother', 38), ('own', 37), ('death', 37), ('nor', 37), ('night', 36), ('look', 36), ('mine', 36), ('can', 36), ('take', 35), ('up', 34), ('play', 34), ('soul', 34), ('hear', 33), ('god', 32), ('life', 32), ('laertes', 32), ('could', 32), ('again', 31), ('might', 31), ('whose', 31), ('indeed', 31), ('nothing', 30), ('made', 30), ('pray', 30), ('heart', 29), ('horatio', 29), ('hold', 29), ('dead', 29), ('dear', 29), ('been', 28), ('cannot', 28), ('leave', 28), ('were', 28), ('doth', 27), ('nature', 27), ('into', 27), ('matter', 27), ('nay', 26), ('great', 26), ('both', 26), ('never', 26), ('thing', 25), ('down', 25), ('does', 25), ('sweet', 25), ('away', 24), ('even', 24), ('world', 24), ('head', 24), ('earth', 24), ('though', 24), (\"i'\", 24), ('itself', 24), ('eyes', 23), ('against', 23), ('part', 23), ('true', 23), ('queen', 23), ('put', 23), ('seen', 22), ('comes', 22), ('set', 22), ('madness', 22), ('fair', 21), ('day', 21), ('those', 21), ('done', 21), ('show', 21), ('himself', 21), ('follow', 21), ('call', 21), ('mad', 21), ('friends', 20), ('two', 20), ('fear', 20), ('before', 20), ('old', 20), ('son', 20), ('till', 20), ('poor', 20), ('means', 20), ('words', 20), ('england', 20), ('once', 19), ('denmark', 19), ('believe', 19), ('without', 19), ('blood', 19)]\n"
     ]
    }
   ],
   "source": [
    "lines_clean = []\n",
    "for l in lines:\n",
    "    num_starts = 0\n",
    "    for i in range(len(l[1])):\n",
    "        if l[1][i] == '>':\n",
    "            num_starts = i\n",
    "    lines_clean.append([l[0], l[1][num_starts+1:].lower().replace('--', '').replace('?', '').replace(',', '').replace('!', '').replace('.', '').replace(':', '').replace(';', '')])\n",
    "\n",
    "words = {}\n",
    "for l in lines_clean:\n",
    "    word_list = l[1].split()\n",
    "    for word in word_list:\n",
    "        if word in words:\n",
    "            words[word] += 1\n",
    "        else:\n",
    "            words[word] = 1\n",
    "print('# of Instances of each Word (1st 200 words):')\n",
    "words_ordered = sorted(words.items(), key=lambda x: x[1], reverse=True)[:199]\n",
    "print(words_ordered)\n"
   ]
  },
  {
   "cell_type": "code",
   "execution_count": 174,
   "metadata": {},
   "outputs": [
    {
     "name": "stdout",
     "output_type": "stream",
     "text": [
      "The 1st Most Common Non-pronoun Noun:\n",
      "60th: ('hamlet', 74)\n"
     ]
    }
   ],
   "source": [
    "print('The 1st Most Common Non-pronoun Noun:')\n",
    "print('60th: ' + str(words_ordered[59]))\n"
   ]
  },
  {
   "cell_type": "code",
   "execution_count": 175,
   "metadata": {},
   "outputs": [
    {
     "name": "stdout",
     "output_type": "stream",
     "text": [
      "Common Words Pertaining to Hamlet's Themes (in the top 200 words):\n",
      "69th:      ('love', 66)\n",
      "98th:      ('father', 50)\n",
      "105th:    ('heaven', 43)\n",
      "112th:    ('mother', 38)\n",
      "114th:    ('death', 37)\n",
      "116th:    ('night', 36)\n",
      "122nd:   ('play', 34)\n",
      "123th:    ('soul', 34)\n",
      "125th:    ('god', 32)\n",
      "126th:    ('life', 32)\n",
      "135th:    ('pray', 30)\n",
      "136th:    ('heart', 29)\n",
      "139th:    ('dead', 29)\n",
      "146th:    ('nature', 27)\n",
      "159th:    ('world', 24)\n",
      "161st:    ('earth', 24)\n",
      "165th:    ('eyes', 23)\n",
      "174th:    ('madness', 22)\n",
      "183rd:    ('mad', 21)\n",
      "186th:    ('fear', 20)\n",
      "189th:    ('son', 20)\n",
      "199th:    ('blood', 19)\n"
     ]
    }
   ],
   "source": [
    "print(\"Common Words Pertaining to Hamlet's Themes (in the top 200 words):\")\n",
    "print('69th:      ' + str(words_ordered[68]))\n",
    "print('98th:      ' + str(words_ordered[97]))\n",
    "print('105th:    ' + str(words_ordered[104]))\n",
    "print('112th:    ' + str(words_ordered[111]))\n",
    "print('114th:    ' + str(words_ordered[113]))\n",
    "print('116th:    ' + str(words_ordered[115]))\n",
    "print('122nd:   ' + str(words_ordered[121]))\n",
    "print('123th:    ' + str(words_ordered[122]))\n",
    "print('125th:    ' + str(words_ordered[124]))\n",
    "print('126th:    ' + str(words_ordered[125]))\n",
    "print('135th:    ' + str(words_ordered[134]))\n",
    "print('136th:    ' + str(words_ordered[135]))\n",
    "print('139th:    ' + str(words_ordered[138]))\n",
    "print('146th:    ' + str(words_ordered[145]))\n",
    "print('159th:    ' + str(words_ordered[158]))\n",
    "print('161st:    ' + str(words_ordered[160]))\n",
    "print('165th:    ' + str(words_ordered[164]))\n",
    "print('174th:    ' + str(words_ordered[173]))\n",
    "print('183rd:    ' + str(words_ordered[182]))\n",
    "print('186th:    ' + str(words_ordered[185]))\n",
    "print('189th:    ' + str(words_ordered[188]))\n",
    "print('199th:    ' + str(words_ordered[198]))\n"
   ]
  },
  {
   "cell_type": "code",
   "execution_count": null,
   "metadata": {},
   "outputs": [],
   "source": []
  }
 ],
 "metadata": {
  "kernelspec": {
   "display_name": "Python 2",
   "language": "python",
   "name": "python2"
  },
  "language_info": {
   "codemirror_mode": {
    "name": "ipython",
    "version": 2
   },
   "file_extension": ".py",
   "mimetype": "text/x-python",
   "name": "python",
   "nbconvert_exporter": "python",
   "pygments_lexer": "ipython2",
   "version": "2.7.6"
  }
 },
 "nbformat": 4,
 "nbformat_minor": 0
}
